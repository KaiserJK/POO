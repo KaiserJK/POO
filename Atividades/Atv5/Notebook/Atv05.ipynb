{
 "cells": [
  {
   "cell_type": "markdown",
   "id": "a2c2cfcc-91c6-4294-9054-6fd3845a2514",
   "metadata": {},
   "source": [
    "# Atv05"
   ]
  },
  {
   "cell_type": "markdown",
   "id": "e12a6d48-a97f-4071-b48f-38c437269052",
   "metadata": {},
   "source": [
    "1 - Declare uma variável do tipo real chamada gastosJaneiro e inicialize-a com o valor gasto no mês de janeiro, declare também as variáveis gastosFevereiro e gastosMarco, inicializando-as com os respectivos gastos, utilize uma linha para cada declaração;\n",
    "\n",
    "2 - Crie uma variável chamada gastosTrimestre e inicialize-a com a soma das outras variáveis."
   ]
  },
  {
   "cell_type": "code",
   "execution_count": null,
   "id": "f05cef05-3fa4-467d-bb08-72f6c35b6a02",
   "metadata": {
    "tags": []
   },
   "outputs": [],
   "source": [
    "//Inicializando as variaveis e dando valores para elas \n",
    "double GastosJaneiro = 4200.50;\n",
    "double GastosFevereiro = 7654.78;\n",
    "double GastosMarco = 109889.32;\n",
    "\n",
    "//Variavel para soma sendo inicializada e ja recebendo a soma\n",
    "double GastosTrimestre = GastosJaneiro + GastosFevereiro + GastosMarco;"
   ]
  },
  {
   "cell_type": "markdown",
   "id": "531541b9-b47f-4f2a-b4eb-41737ebd92f4",
   "metadata": {
    "tags": []
   },
   "source": [
    "Exiba a variável gastosTrimestre"
   ]
  },
  {
   "cell_type": "code",
   "execution_count": null,
   "id": "8803de69-7acd-47a6-9b25-2e56013e1219",
   "metadata": {
    "tags": []
   },
   "outputs": [],
   "source": [
    "//Exibe os gastos ultilizando um print\n",
    "System.out.println(\"Gastos do Trimestre: \" + GastosTrimestre);"
   ]
  },
  {
   "cell_type": "markdown",
   "id": "31f3ab6e-e793-458c-a3ae-b49dec81a838",
   "metadata": {
    "tags": []
   },
   "source": [
    "Declare a variável mediaMensal e faça o cálculo para a média mensal de gastos"
   ]
  },
  {
   "cell_type": "code",
   "execution_count": null,
   "id": "f52360b1-ad7e-437b-92c8-94778d31aeaa",
   "metadata": {
    "tags": []
   },
   "outputs": [],
   "source": [
    "//Media Dos gastos\n",
    "double Media = GastosTrimestre/3;"
   ]
  },
  {
   "cell_type": "markdown",
   "id": "60aad922-0628-45de-b4a3-ff8050f76726",
   "metadata": {},
   "source": [
    "Exiba a mensagem \"Valor da média mensal = \" juntamente com o valor da média mensal"
   ]
  },
  {
   "cell_type": "code",
   "execution_count": null,
   "id": "46798d6e-8cc5-4d5a-9dbc-ccfad048584a",
   "metadata": {},
   "outputs": [],
   "source": [
    "//EXibe a media usando um print\n",
    "System.out.println(\"Valor da média mensal = \"+GastosTrimestre/3);"
   ]
  },
  {
   "cell_type": "code",
   "execution_count": 1,
   "id": "c601a449-ae44-4dfb-9e85-ab3c2b8593c7",
   "metadata": {},
   "outputs": [
    {
     "name": "stdout",
     "output_type": "stream",
     "text": [
      "Gastos do Trimestre: 121744.6\n",
      "Valor da média mensal = 40581.53333333333\n"
     ]
    },
    {
     "data": {
      "text/plain": [
       "null"
      ]
     },
     "execution_count": 1,
     "metadata": {},
     "output_type": "execute_result"
    }
   ],
   "source": [
    "// Codigo Total\n",
    "\n",
    "//Inicializando as variaveis e dando valores para elas \n",
    "\n",
    "double GastosJaneiro = 4200.50;\n",
    "double GastosFevereiro = 7654.78;\n",
    "double GastosMarco = 109889.32;\n",
    "\n",
    "//Variavel para soma sendo inicializada e ja recebendo a soma\n",
    "double GastosTrimestre = GastosJaneiro + GastosFevereiro + GastosMarco;\n",
    "\n",
    "//Exibe os gastos ultilizando um print\n",
    "System.out.println(\"Gastos do Trimestre: \" + GastosTrimestre);\n",
    "\n",
    "//Media Dos gastos\n",
    "double Media = GastosTrimestre/3;\n",
    "//EXibe a media usando um print\n",
    "System.out.println(\"Valor da média mensal = \"+Media);"
   ]
  },
  {
   "cell_type": "code",
   "execution_count": null,
   "id": "5af15f00",
   "metadata": {},
   "outputs": [],
   "source": []
  }
 ],
 "metadata": {
  "kernelspec": {
   "display_name": "Java",
   "language": "java",
   "name": "java"
  },
  "language_info": {
   "codemirror_mode": "text/x-java",
   "file_extension": ".java",
   "mimetype": "",
   "name": "Java",
   "nbconverter_exporter": "",
   "version": "1.8.0_121"
  },
  "toc": {
   "base_numbering": 1,
   "nav_menu": {},
   "number_sections": false,
   "sideBar": false,
   "skip_h1_title": false,
   "title_cell": "Table of Contents",
   "title_sidebar": "Contents",
   "toc_cell": false,
   "toc_position": {},
   "toc_section_display": false,
   "toc_window_display": false
  }
 },
 "nbformat": 4,
 "nbformat_minor": 5
}
