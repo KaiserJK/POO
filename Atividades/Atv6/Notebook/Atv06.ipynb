{
 "cells": [
  {
   "cell_type": "markdown",
   "id": "a49e99d1-9f68-40a8-a286-903f2fd2251b",
   "metadata": {},
   "source": [
    "# Atv06"
   ]
  },
  {
   "cell_type": "markdown",
   "id": "2f43b1b3-44a5-4b52-81b9-1b57ace64201",
   "metadata": {},
   "source": [
    "Dados os valores de um depósito fixo mensal e um montante desejado, crie uma classe para determinar quantos meses serão necessários para acumular o montante desejado, considerando juros mensais de 0,5%."
   ]
  },
  {
   "cell_type": "code",
   "execution_count": 2,
   "id": "4d1aa8ae-5b25-4e64-b302-407522e905f9",
   "metadata": {},
   "outputs": [
    {
     "name": "stdout",
     "output_type": "stream",
     "text": [
      "Insira o valor para os depositos:100\n",
      "Insira o valor desejado :1000\n",
      "\n",
      "Em 10 meses, você ira alcançar o montante de: 1000.0\n",
      "Seu saldo sera = 1022.80 \n"
     ]
    },
    {
     "data": {
      "text/plain": [
       "null"
      ]
     },
     "execution_count": 2,
     "metadata": {},
     "output_type": "execute_result"
    }
   ],
   "source": [
    "import java.util.Scanner;\n",
    "Scanner Entrada = new Scanner(System.in);\n",
    "System.out.print(\"Insira o valor para os depositos:\");//Solicita as informações e deixa o cursor na mesma linha\n",
    "double Deposito= Entrada.nextFloat(); //Recebe os valores Informados e passa para float\n",
    "\n",
    "System.out.print(\"Insira o valor desejado :\");//Solicita as informações e deixa o cursor na mesma linha\n",
    "double ValorMeta = Entrada.nextFloat(); //Recebe os valores Informados e passa para float\n",
    "\n",
    "double Total = 0; //inicialização da variavel Total \n",
    "int Cont= 0; //iniciação do contador\n",
    "\n",
    "\n",
    "while (Total < ValorMeta){\n",
    "\n",
    "    //contador dos meses\n",
    "    Cont++; \n",
    "\n",
    "    // Faz o calculo dos juros \n",
    "    Double Juros = Total * 0.005;\n",
    "\n",
    "    //Soma o valor do deposito aos juros no total\n",
    "    Total += Deposito + Juros ; \n",
    "}\n",
    "\n",
    "System.out.println(); //organizando a visualização da saida\n",
    "\n",
    "//resultados dos depositos\n",
    "System.out.println(\"Em \" + Cont + \" meses, você ira alcançar o montante de: \" + ValorMeta);\n",
    "System.out.printf(\"Seu saldo sera = %.2f %n\",  (Total));"
   ]
  },
  {
   "cell_type": "code",
   "execution_count": null,
   "id": "87a4950f",
   "metadata": {},
   "outputs": [],
   "source": []
  }
 ],
 "metadata": {
  "kernelspec": {
   "display_name": "Java",
   "language": "java",
   "name": "java"
  },
  "language_info": {
   "codemirror_mode": "text/x-java",
   "file_extension": ".java",
   "mimetype": "",
   "name": "Java",
   "nbconverter_exporter": "",
   "version": "1.8.0_121"
  },
  "toc": {
   "base_numbering": 1,
   "nav_menu": {},
   "number_sections": false,
   "sideBar": false,
   "skip_h1_title": false,
   "title_cell": "Table of Contents",
   "title_sidebar": "Contents",
   "toc_cell": false,
   "toc_position": {},
   "toc_section_display": false,
   "toc_window_display": false
  }
 },
 "nbformat": 4,
 "nbformat_minor": 5
}
